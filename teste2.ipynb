{
  "nbformat": 4,
  "nbformat_minor": 0,
  "metadata": {
    "colab": {
      "provenance": [],
      "authorship_tag": "ABX9TyNNkkCLSmT4H2dlfuWaoxCj"
    },
    "kernelspec": {
      "name": "python3",
      "display_name": "Python 3"
    },
    "language_info": {
      "name": "python"
    }
  },
  "cells": [
    {
      "cell_type": "code",
      "execution_count": null,
      "metadata": {
        "id": "yhIGZkDJw1xj"
      },
      "outputs": [],
      "source": [
        "import cv2\n",
        "import numpy as np\n",
        "import tensorflow as tf\n",
        "import matplotlib.pyplot as plt\n",
        "from google.colab.patches import cv2_imshow"
      ]
    },
    {
      "cell_type": "code",
      "source": [
        "from google.colab import drive\n",
        "drive.mount('/content/drive')"
      ],
      "metadata": {
        "colab": {
          "base_uri": "https://localhost:8080/"
        },
        "id": "FDSAbGyZw7Up",
        "outputId": "7affe656-0a8b-4337-dad6-8503da1f9087"
      },
      "execution_count": null,
      "outputs": [
        {
          "output_type": "stream",
          "name": "stdout",
          "text": [
            "Drive already mounted at /content/drive; to attempt to forcibly remount, call drive.mount(\"/content/drive\", force_remount=True).\n"
          ]
        }
      ]
    },
    {
      "cell_type": "code",
      "source": [
        "from tensorflow import keras\n",
        "model = keras.models.load_model('/content/drive/My Drive/ModelIA')"
      ],
      "metadata": {
        "id": "uVgYfURWxaC_"
      },
      "execution_count": null,
      "outputs": []
    },
    {
      "cell_type": "code",
      "source": [
        "data = []\n",
        "image = cv2.imread(\"L.png\",0)\n",
        "image = cv2.cvtColor(image, cv2.COLOR_GRAY2BGR)\n",
        "image = cv2.resize(image, (50, 50))\n",
        "cv2_imshow(image)\n",
        "#image = cv2.flip(image, 1)\n",
        "#image = cv2.cvtColor(image, cv2.COLOR_BGR2GRAY)\n",
        "#ret,image = cv2.threshold(image,100,255,0)\n",
        "#image = img_to_array(image)\n",
        "data.append(image)\n",
        "image = cv2.imread(\"o.png\",0)\n",
        "image = cv2.cvtColor(image, cv2.COLOR_GRAY2BGR)\n",
        "image = cv2.resize(image, (50, 50))\n",
        "cv2_imshow(image)\n",
        "#image = cv2.flip(image, 1)\n",
        "#image = cv2.cvtColor(image, cv2.COLOR_BGR2GRAY)\n",
        "#ret,image = cv2.threshold(image,100,255,0)\n",
        "#image = img_to_array(image)\n",
        "data.append(image)\n",
        "data = np.array(data, dtype=\"float\") / 255.0\n",
        "data.shape"
      ],
      "metadata": {
        "colab": {
          "base_uri": "https://localhost:8080/",
          "height": 134
        },
        "id": "hQu5-DzDxryx",
        "outputId": "2b24445c-3f69-4d0e-829b-feea11c4cb0f"
      },
      "execution_count": null,
      "outputs": [
        {
          "output_type": "display_data",
          "data": {
            "text/plain": [
              "<PIL.Image.Image image mode=RGB size=50x50 at 0x7F32BE2023B0>"
            ],
            "image/png": "[encoded data removed]"
          },
          "metadata": {}
        },
        {
          "output_type": "display_data",
          "data": {
            "text/plain": [
              "<PIL.Image.Image image mode=RGB size=50x50 at 0x7F32C4210D60>"
            ],
            "image/png": "[encoded data removed]"
          },
          "metadata": {}
        },
        {
          "output_type": "execute_result",
          "data": {
            "text/plain": [
              "(2, 50, 50, 3)"
            ]
          },
          "metadata": {},
          "execution_count": 72
        }
      ]
    },
    {
      "cell_type": "code",
      "source": [
        "print(\"Generating test predictions...\")\n",
        "#data = tf.expand_dims(data, axis=-1)\n",
        "predict_x=model.predict(data)\n",
        "print(np.around(predict_x, 2))\n",
        "\n",
        "# make class predictions\n",
        "predictions = (predict_x > 0.5).astype(int)"
      ],
      "metadata": {
        "colab": {
          "base_uri": "https://localhost:8080/"
        },
        "id": "DH8zdhaMxzuV",
        "outputId": "ce3d3396-6aab-4c03-81bf-ecf35dac739f"
      },
      "execution_count": null,
      "outputs": [
        {
          "output_type": "stream",
          "name": "stdout",
          "text": [
            "Generating test predictions...\n",
            "1/1 [==============================] - 0s 95ms/step\n",
            "[[1.   0.   0.   0.  ]\n",
            " [0.01 0.   0.   0.99]]\n"
          ]
        }
      ]
    }
  ]
}